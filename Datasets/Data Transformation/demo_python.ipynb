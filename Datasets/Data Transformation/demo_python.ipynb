{
 "cells": [
  {
   "cell_type": "markdown",
   "metadata": {},
   "source": [
    "# Importar os módulos necessários"
   ]
  },
  {
   "cell_type": "code",
   "execution_count": null,
   "metadata": {},
   "outputs": [],
   "source": [
    "pip install seaborn"
   ]
  },
  {
   "cell_type": "code",
   "execution_count": 11,
   "metadata": {},
   "outputs": [],
   "source": [
    "import pandas as pd\n",
    "import os\n",
    "import seaborn as sn\n",
    "import matplotlib.pyplot as plt"
   ]
  },
  {
   "cell_type": "code",
   "execution_count": 12,
   "metadata": {},
   "outputs": [],
   "source": [
    "csv_file_path = os.path.abspath('train.csv')\n",
    "#csv_file_path = 'C:/Users/Project/Desktop/Dataset/train.csv'  # Replace with the actual path to your CSV file\n",
    "df = pd.read_csv(csv_file_path)\n",
    "#data = pd.read_csv(\"train.csv\")"
   ]
  },
  {
   "cell_type": "code",
   "execution_count": 13,
   "metadata": {},
   "outputs": [
    {
     "name": "stdout",
     "output_type": "stream",
     "text": [
      "              brand                        model  model_year       milage  \\\n",
      "0              Jeep               Wrangler Sport        2014   71,000 mi.   \n",
      "1            Toyota               Highlander XLE        2015   68,575 mi.   \n",
      "2            Toyota             Camry Hybrid XLE        2018   69,641 mi.   \n",
      "3            Subaru           Outback Touring XT        2021   33,500 mi.   \n",
      "4             Lexus                  GX 460 Base        2018   75,000 mi.   \n",
      "...             ...                          ...         ...          ...   \n",
      "3202           Audi         Q5 2.0T Premium Plus        2016   52,105 mi.   \n",
      "3203  Mercedes-Benz              SL-Class SL 550        2014   76,850 mi.   \n",
      "3204       Cadillac  Escalade ESV Premium Luxury        2018   74,150 mi.   \n",
      "3205           Ford                     Edge SEL        2019   26,465 mi.   \n",
      "3206          Honda              Prelude Type SH        2001  125,000 mi.   \n",
      "\n",
      "          fuel_type                                             engine  \\\n",
      "0          Gasoline      285.0HP 3.6L V6 Cylinder Engine Gasoline Fuel   \n",
      "1          Gasoline      270.0HP 3.5L V6 Cylinder Engine Gasoline Fuel   \n",
      "2            Hybrid  208.0HP 2.5L 4 Cylinder Engine Gas/Electric Hy...   \n",
      "3          Gasoline       260.0HP 2.4L 4 Cylinder Engine Gasoline Fuel   \n",
      "4          Gasoline       301.0HP 4.6L 8 Cylinder Engine Gasoline Fuel   \n",
      "...             ...                                                ...   \n",
      "3202  E85 Flex Fuel  220.0HP 2.0L 4 Cylinder Engine Flex Fuel Capab...   \n",
      "3203       Gasoline       429.0HP 4.7L 8 Cylinder Engine Gasoline Fuel   \n",
      "3204       Gasoline       420.0HP 6.2L 8 Cylinder Engine Gasoline Fuel   \n",
      "3205       Gasoline                         2.0L I4 16V GDI DOHC Turbo   \n",
      "3206       Gasoline       200.0HP 2.2L 4 Cylinder Engine Gasoline Fuel   \n",
      "\n",
      "           transmission                           ext_col int_col  \\\n",
      "0           5-Speed A/T                              Gray   Black   \n",
      "1                   A/T                            Silver    Gray   \n",
      "2      CVT Transmission                             White   Black   \n",
      "3      CVT Transmission                              Blue   Brown   \n",
      "4           6-Speed A/T                             White   Beige   \n",
      "...                 ...                               ...     ...   \n",
      "3202                A/T                             White   Beige   \n",
      "3203        7-Speed A/T                             Brown   Beige   \n",
      "3204       10-Speed A/T                              Gold   Brown   \n",
      "3205  8-Speed Automatic  White Platinum Tri-Coat Metallic   Ebony   \n",
      "3206        5-Speed M/T                               Red   Black   \n",
      "\n",
      "                                    accident clean_title  price  \n",
      "0                              None reported         Yes  22000  \n",
      "1     At least 1 accident or damage reported         Yes  26000  \n",
      "2     At least 1 accident or damage reported         Yes  23995  \n",
      "3                              None reported         Yes  34000  \n",
      "4     At least 1 accident or damage reported         Yes  38095  \n",
      "...                                      ...         ...    ...  \n",
      "3202  At least 1 accident or damage reported         Yes  20499  \n",
      "3203  At least 1 accident or damage reported         Yes  32999  \n",
      "3204                           None reported         Yes  45000  \n",
      "3205                           None reported         NaN  24998  \n",
      "3206                           None reported         Yes  18000  \n",
      "\n",
      "[3207 rows x 12 columns]\n"
     ]
    }
   ],
   "source": [
    "print(df)"
   ]
  },
  {
   "cell_type": "code",
   "execution_count": null,
   "metadata": {},
   "outputs": [],
   "source": [
    "#df['fuel_type'] = df['fuel_type'].apply(lambda x: x.decode('utf-8') if isinstance(x, bytes) else x)\n",
    "#df['fuel_type'] = df['fuel_type'].replace('\\u2013', \"Teste3\")\n",
    "#df['fuel_type'] = df['fuel_type'].fillna('Teste4')"
   ]
  },
  {
   "cell_type": "code",
   "execution_count": 15,
   "metadata": {},
   "outputs": [],
   "source": [
    "df_encoded = pd.get_dummies(df)\n",
    "plt.figure(figsize=(10, 8))  # Ajuste o tamanho conforme necessário\n",
    "heatmap = sn.heatmap(df_encoded.corr(), annot=True, cmap='coolwarm')\n",
    "\n",
    "# Ajustando a exibição para evitar cortes em alguns ambientes\n",
    "b, t = plt.ylim()  # descobre os limites atuais da exibição\n",
    "b += 0.5  # Adiciona 0,5 às coordenadas inferiores\n",
    "t -= 0.5  # Subtrai 0,5 das coordenadas superiores\n",
    "plt.ylim(b, t)  # Atualiza os limites do eixo y\n",
    "\n",
    "plt.show()"
   ]
  },
  {
   "cell_type": "code",
   "execution_count": null,
   "metadata": {},
   "outputs": [],
   "source": [
    "import pandas as pd\n",
    "from sklearn.metrics import (\n",
    "        make_scorer,\n",
    "        confusion_matrix, \n",
    "        cohen_kappa_score, \n",
    "        accuracy_score, \n",
    "        precision_score, \n",
    "        recall_score, \n",
    "        f1_score, \n",
    "        roc_auc_score\n",
    ")\n",
    "from sklearn.model_selection import cross_validate, StratifiedKFold\n",
    "from sklearn.tree import DecisionTreeClassifier # decision trees for classification\n",
    "from sklearn.neural_network import  MLPClassifier # neural networks for classification\n",
    "from sklearn.naive_bayes import GaussianNB # naive bayes for classification\n",
    "from sklearn.svm import SVC # support vector machines for classification"
   ]
  },
  {
   "cell_type": "markdown",
   "metadata": {},
   "source": [
    "# Definir as Métricas para Avaliação dos Modelos"
   ]
  },
  {
   "cell_type": "code",
   "execution_count": null,
   "metadata": {},
   "outputs": [],
   "source": [
    "def specificity_score(y_true, y_pred):\n",
    "    tn, fp, fn, tp = confusion_matrix(y_true, y_pred).ravel()\n",
    "    return tn / (tn+fp)"
   ]
  },
  {
   "cell_type": "code",
   "execution_count": null,
   "metadata": {},
   "outputs": [],
   "source": [
    "METRICS = {\n",
    "        \"accuracy\": make_scorer(accuracy_score),\n",
    "        \"precision\": make_scorer(precision_score),\n",
    "        \"recall\": make_scorer(recall_score),\n",
    "        \"f1\": make_scorer(f1_score),\n",
    "        \"AUC\": make_scorer(roc_auc_score, needs_proba=True),\n",
    "        \"specificity\": make_scorer(specificity_score),\n",
    "        \"kappa\":make_scorer(cohen_kappa_score)\n",
    "}"
   ]
  },
  {
   "cell_type": "markdown",
   "metadata": {},
   "source": [
    "# Ler o Conjunto de Dados"
   ]
  },
  {
   "cell_type": "code",
   "execution_count": 4,
   "metadata": {},
   "outputs": [
    {
     "ename": "NameError",
     "evalue": "name 'pd' is not defined",
     "output_type": "error",
     "traceback": [
      "\u001b[1;31m---------------------------------------------------------------------------\u001b[0m",
      "\u001b[1;31mNameError\u001b[0m                                 Traceback (most recent call last)",
      "\u001b[1;32mc:\\Users\\Project\\Desktop\\AASE\\E1\\demo_python.ipynb Cell 8\u001b[0m line \u001b[0;36m1\n\u001b[1;32m----> <a href='vscode-notebook-cell:/c%3A/Users/Project/Desktop/AASE/E1/demo_python.ipynb#X10sZmlsZQ%3D%3D?line=0'>1</a>\u001b[0m d \u001b[39m=\u001b[39m pd\u001b[39m.\u001b[39mread_csv(\u001b[39m\"\u001b[39m\u001b[39mheart.csv\u001b[39m\u001b[39m\"\u001b[39m)\n\u001b[0;32m      <a href='vscode-notebook-cell:/c%3A/Users/Project/Desktop/AASE/E1/demo_python.ipynb#X10sZmlsZQ%3D%3D?line=1'>2</a>\u001b[0m d\n",
      "\u001b[1;31mNameError\u001b[0m: name 'pd' is not defined"
     ]
    }
   ],
   "source": [
    "d = pd.read_csv(\"heart.csv\")\n",
    "d"
   ]
  },
  {
   "cell_type": "code",
   "execution_count": null,
   "metadata": {},
   "outputs": [],
   "source": [
    "X, y = d.drop(\"target\", axis=1), d[\"target\"]"
   ]
  },
  {
   "cell_type": "markdown",
   "metadata": {},
   "source": [
    "# Definir o Método de Validação Cruzada"
   ]
  },
  {
   "cell_type": "code",
   "execution_count": null,
   "metadata": {},
   "outputs": [],
   "source": [
    "splitter = StratifiedKFold(n_splits=10, shuffle=True, random_state=1234)"
   ]
  },
  {
   "cell_type": "markdown",
   "metadata": {},
   "source": [
    "# Implementação dos Algoritmos de Machine Learning"
   ]
  },
  {
   "cell_type": "markdown",
   "metadata": {},
   "source": [
    "### Árvores de Decisão"
   ]
  },
  {
   "cell_type": "code",
   "execution_count": null,
   "metadata": {},
   "outputs": [],
   "source": [
    "dt = DecisionTreeClassifier(max_depth=3, random_state=1234)\n",
    "splitter = StratifiedKFold(10, random_state=1234, shuffle=True)\n",
    "scores = cross_validate(dt, X, y, cv=splitter, scoring=METRICS)\n",
    "dt_scores = pd.DataFrame(scores)\n",
    "pd.DataFrame(dt_scores.mean()).T"
   ]
  },
  {
   "cell_type": "markdown",
   "metadata": {},
   "source": [
    "### Redes Neuronais"
   ]
  },
  {
   "cell_type": "code",
   "execution_count": null,
   "metadata": {},
   "outputs": [],
   "source": [
    "nn = MLPClassifier(hidden_layer_sizes=(50,50), max_iter=20, random_state=1234)\n",
    "scores_nn = cross_validate(nn, X, y, cv=splitter, scoring=METRICS)\n",
    "nn_scores = pd.DataFrame(scores_nn)\n",
    "pd.DataFrame(nn_scores.mean()).T"
   ]
  },
  {
   "cell_type": "markdown",
   "metadata": {},
   "source": [
    "### Naive Bayes"
   ]
  },
  {
   "cell_type": "code",
   "execution_count": null,
   "metadata": {},
   "outputs": [],
   "source": [
    "nb = GaussianNB()\n",
    "scores_nb = cross_validate(nb, X, y, cv=splitter, scoring=METRICS)\n",
    "nb_scores = pd.DataFrame(scores_nb)\n",
    "pd.DataFrame(nb_scores.mean()).T"
   ]
  },
  {
   "cell_type": "markdown",
   "metadata": {},
   "source": [
    "### Support Vector Machine"
   ]
  },
  {
   "cell_type": "code",
   "execution_count": null,
   "metadata": {},
   "outputs": [],
   "source": [
    "svm = SVC(random_state=1234, probability=True)\n",
    "scores_svm = cross_validate(svm, X, y, cv=splitter, scoring=METRICS)\n",
    "svm_scores = pd.DataFrame(scores_svm)\n",
    "pd.DataFrame(svm_scores.mean()).T"
   ]
  },
  {
   "cell_type": "code",
   "execution_count": null,
   "metadata": {},
   "outputs": [],
   "source": []
  }
 ],
 "metadata": {
  "kernelspec": {
   "display_name": "Python 3.9.13 ('aase')",
   "language": "python",
   "name": "python3"
  },
  "language_info": {
   "codemirror_mode": {
    "name": "ipython",
    "version": 3
   },
   "file_extension": ".py",
   "mimetype": "text/x-python",
   "name": "python",
   "nbconvert_exporter": "python",
   "pygments_lexer": "ipython3",
   "version": "3.11.6"
  },
  "orig_nbformat": 4,
  "vscode": {
   "interpreter": {
    "hash": "941a02c14a17852a9cb07cad892c4a36ec1d8a3f93fc8ad448615ff7fbd85d7b"
   }
  }
 },
 "nbformat": 4,
 "nbformat_minor": 2
}
